{
  "nbformat": 4,
  "nbformat_minor": 0,
  "metadata": {
    "colab": {
      "name": "02. Regression",
      "provenance": [],
      "collapsed_sections": []
    },
    "kernelspec": {
      "name": "python3",
      "display_name": "Python 3"
    }
  },
  "cells": [
    {
      "cell_type": "markdown",
      "metadata": {
        "id": "f4tt0OFKHZaC",
        "colab_type": "text"
      },
      "source": [
        "### **Tensorflow Version Check**"
      ]
    },
    {
      "cell_type": "code",
      "metadata": {
        "id": "BKnaf8epF1oa",
        "colab_type": "code",
        "colab": {
          "base_uri": "https://localhost:8080/",
          "height": 34
        },
        "outputId": "68a67735-6019-4031-df46-f8f7791b2937"
      },
      "source": [
        "# 텐서플로 2.x 버전 선택\n",
        "try:\n",
        "    # %tensorflow_version only exists in Colab.\n",
        "    %tensorflow_version 2.x\n",
        "except Exception:\n",
        "    pass"
      ],
      "execution_count": 1,
      "outputs": [
        {
          "output_type": "stream",
          "text": [
            "TensorFlow 2.x selected.\n"
          ],
          "name": "stdout"
        }
      ]
    },
    {
      "cell_type": "code",
      "metadata": {
        "id": "L3N_ZWEPHXF9",
        "colab_type": "code",
        "colab": {
          "base_uri": "https://localhost:8080/",
          "height": 34
        },
        "outputId": "a3dc4573-1a16-4920-e26c-c1d6e84f00cb"
      },
      "source": [
        "import tensorflow as tf\n",
        "print('tf.__version__ = {}' .format(tf.__version__))"
      ],
      "execution_count": 2,
      "outputs": [
        {
          "output_type": "stream",
          "text": [
            "tf.__version__ = 2.1.0\n"
          ],
          "name": "stdout"
        }
      ]
    },
    {
      "cell_type": "markdown",
      "metadata": {
        "id": "HYnM5rmXFKpc",
        "colab_type": "text"
      },
      "source": [
        "### **지역별 인구증가율과 고령인구비율 시각화**"
      ]
    },
    {
      "cell_type": "code",
      "metadata": {
        "id": "Hkszpd7qFDCs",
        "colab_type": "code",
        "colab": {
          "base_uri": "https://localhost:8080/",
          "height": 279
        },
        "outputId": "6f49479f-91a8-4862-d97f-91623fa5c6b9"
      },
      "source": [
        "import matplotlib.pyplot as plt\n",
        "population_inc = [0.3, -0.78, 1.26, 0.03, 1.11, 15.17, 0.24, -0.24, -0.47, -0.77, -0.37, -0.85, -0.41, -0.27, 0.02, -0.76, 2.66]\n",
        "population_old = [12.27, 14.44, 11.87, 18.75, 17.52, 9.29, 16.37, 19.78, 19.51, 12.65, 14.74, 10.72, 21.94, 12.83, 15.51, 17.14, 14.42]\n",
        "plt.plot(population_inc,population_old,'bo')\n",
        "plt.xlabel('Population Growth Rate (%)')\n",
        "plt.ylabel('Elderly Population Rate (%)')\n",
        "plt.show()"
      ],
      "execution_count": 3,
      "outputs": [
        {
          "output_type": "display_data",
          "data": {
            "image/png": "[encoded data removed]",
            "text/plain": [
              "<Figure size 432x288 with 1 Axes>"
            ]
          },
          "metadata": {
            "tags": []
          }
        }
      ]
    },
    {
      "cell_type": "markdown",
      "metadata": {
        "id": "cQPS_gcPHrsx",
        "colab_type": "text"
      },
      "source": [
        "### **지역별 인구증가율과 고령인구비율 시각화(Outlier 제거)**"
      ]
    },
    {
      "cell_type": "code",
      "metadata": {
        "id": "JAOErgTWHo01",
        "colab_type": "code",
        "colab": {
          "base_uri": "https://localhost:8080/",
          "height": 279
        },
        "outputId": "c69e856d-0939-4ea6-9c70-f6f55fde161b"
      },
      "source": [
        "import matplotlib.pyplot as plt\n",
        "population_inc = [0.3, -0.78, 1.26, 0.03, 1.11, 15.17, 0.24, -0.24, -0.47, -0.77, -0.37, -0.85, -0.41, -0.27, 0.02, -0.76, 2.66]\n",
        "population_inc = population_inc[:5] + population_inc[6:]\n",
        "population_old = [12.27, 14.44, 11.87, 18.75, 17.52, 9.29, 16.37, 19.78, 19.51, 12.65, 14.74, 10.72, 21.94, 12.83, 15.51, 17.14, 14.42]\n",
        "population_old = population_old[:5] + population_old[6:]\n",
        "plt.plot(population_inc,population_old,'bo')\n",
        "plt.xlabel('Population Growth Rate (%)')\n",
        "plt.ylabel('Elderly Population Rate (%)')\n",
        "plt.show()"
      ],
      "execution_count": 4,
      "outputs": [
        {
          "output_type": "display_data",
          "data": {
            "image/png": "[encoded data removed]",
            "text/plain": [
              "<Figure size 432x288 with 1 Axes>"
            ]
          },
          "metadata": {
            "tags": []
          }
        }
      ]
    },
    {
      "cell_type": "markdown",
      "metadata": {
        "id": "jKGtvt4uIbKm",
        "colab_type": "text"
      },
      "source": [
        "### **최소제곱법을 이용한 회귀선 구하기**"
      ]
    },
    {
      "cell_type": "code",
      "metadata": {
        "id": "bbSMcmhtHo3S",
        "colab_type": "code",
        "colab": {
          "base_uri": "https://localhost:8080/",
          "height": 296
        },
        "outputId": "27aef562-8b5f-447e-e06b-e856e9987ce5"
      },
      "source": [
        "import numpy as np\n",
        "import matplotlib.pyplot as plt\n",
        "X = [0.3, -0.78, 1.26, 0.03, 1.11, 15.17, 0.24, -0.24, -0.47, -0.77, -0.37, -0.85, -0.41, -0.27, 0.02, -0.76, 2.66]\n",
        "Y = [12.27, 14.44, 11.87, 18.75, 17.52, 9.29, 16.37, 19.78, 19.51, 12.65, 14.74, 10.72, 21.94, 12.83, 15.51, 17.14, 14.42]\n",
        "\n",
        "# X, Y의 평균 계산\n",
        "x_bar = sum(X) / len(X)\n",
        "y_bar = sum(Y) / len(Y)\n",
        "\n",
        "# 최소제곱법으로 기울기와 절편 구하기\n",
        "a = sum([(y-y_bar) * (x-x_bar) for y,x in list(zip(Y,X))])\n",
        "a /= sum([(x - x_bar) ** 2 for x in X])\n",
        "b = y_bar - a * x_bar\n",
        "print('a :', a, 'b :', b)\n",
        "\n",
        "# 회귀선 데이터 구하기\n",
        "line_x = np.arange(min(X), max(X), 0.01)\n",
        "line_y = a * line_x + b\n",
        "\n",
        "# 회귀선 그리기\n",
        "plt.plot(line_x, line_y, 'r-')\n",
        "plt.plot(X, Y, 'bo')\n",
        "plt.xlabel('Population Growth Rate (%)')\n",
        "plt.ylabel('Elderly Population Rate (%)')\n",
        "plt.show()"
      ],
      "execution_count": 5,
      "outputs": [
        {
          "output_type": "stream",
          "text": [
            "a : -0.41696972205601757 b : 15.668665264060529\n"
          ],
          "name": "stdout"
        },
        {
          "output_type": "display_data",
          "data": {
            "image/png": "[encoded data removed]",
            "text/plain": [
              "<Figure size 432x288 with 1 Axes>"
            ]
          },
          "metadata": {
            "tags": []
          }
        }
      ]
    },
    {
      "cell_type": "code",
      "metadata": {
        "id": "zMkCTjhyHo5s",
        "colab_type": "code",
        "colab": {
          "base_uri": "https://localhost:8080/",
          "height": 296
        },
        "outputId": "df8da716-126e-4b26-bdbf-b39a3e8a9400"
      },
      "source": [
        "import numpy as np\n",
        "import matplotlib.pyplot as plt\n",
        "X = [0.3, -0.78, 1.26, 0.03, 1.11, 0.24, -0.24, -0.47, -0.77, -0.37, -0.85, -0.41, -0.27, 0.02, -0.76, 2.66]\n",
        "Y = [12.27, 14.44, 11.87, 18.75, 17.52, 16.37, 19.78, 19.51, 12.65, 14.74, 10.72, 21.94, 12.83, 15.51, 17.14, 14.42]\n",
        "\n",
        "# X, Y의 평균 계산\n",
        "x_bar = sum(X) / len(X)\n",
        "y_bar = sum(Y) / len(Y)\n",
        "\n",
        "# 최소제곱법으로 기울기와 절편 구하기\n",
        "a = sum([(y-y_bar) * (x-x_bar) for y,x in list(zip(Y,X))])\n",
        "a /= sum([(x - x_bar) ** 2 for x in X])\n",
        "b = y_bar - a * x_bar\n",
        "print('a :', a, 'b :', b)\n",
        "\n",
        "# 회귀선 데이터 구하기\n",
        "line_x = np.arange(min(X), max(X), 0.01)\n",
        "line_y = a * line_x + b\n",
        "\n",
        "# 회귀선 그리기\n",
        "plt.plot(line_x, line_y, 'r-')\n",
        "plt.plot(X, Y, 'bo')\n",
        "plt.xlabel('Population Growth Rate (%)')\n",
        "plt.ylabel('Elderly Population Rate (%)')\n",
        "plt.show()"
      ],
      "execution_count": 6,
      "outputs": [
        {
          "output_type": "stream",
          "text": [
            "a : -0.355834147915461 b : 15.669317743971302\n"
          ],
          "name": "stdout"
        },
        {
          "output_type": "display_data",
          "data": {
            "image/png": "[encoded data removed]",
            "text/plain": [
              "<Figure size 432x288 with 1 Axes>"
            ]
          },
          "metadata": {
            "tags": []
          }
        }
      ]
    },
    {
      "cell_type": "markdown",
      "metadata": {
        "id": "eJ6_ToSdL8T8",
        "colab_type": "text"
      },
      "source": [
        "### **텐서플로를 이용해 회귀선 구하기**"
      ]
    },
    {
      "cell_type": "code",
      "metadata": {
        "id": "_sxxxS4xHpBP",
        "colab_type": "code",
        "colab": {
          "base_uri": "https://localhost:8080/",
          "height": 449
        },
        "outputId": "46eddd28-3400-4aee-9563-bb5f20a28f10"
      },
      "source": [
        "import tensorflow as tf\n",
        "import numpy as np\n",
        "import matplotlib.pyplot as plt\n",
        "import random\n",
        "\n",
        "X = [0.3, -0.78, 1.26, 0.03, 1.11, 0.24, -0.24, -0.47, -0.77, -0.37, -0.85, -0.41, -0.27, 0.02, -0.76, 2.66]\n",
        "Y = [12.27, 14.44, 11.87, 18.75, 17.52, 16.37, 19.78, 19.51, 12.65, 14.74, 10.72, 21.94, 12.83, 15.51, 17.14, 14.42]\n",
        "\n",
        "# a,b를 랜덤으로 초기화\n",
        "a = tf.Variable(random.random())\n",
        "b = tf.Variable(random.random())\n",
        "\n",
        "# 잔차의 제곱의 평균을 반환하는 함수\n",
        "def compute_loss() : \n",
        "  y_pred = a * X + b\n",
        "  loss = tf.reduce_mean((Y - y_pred) ** 2)\n",
        "  return loss\n",
        "\n",
        "# 옵티마이저\n",
        "optimizer = tf.optimizers.Adam(lr=0.07)\n",
        "\n",
        "for i in range(1000) : \n",
        "  # 잔차의 제곱의 평균을 최소화\n",
        "  optimizer.minimize(compute_loss, var_list=[a,b])\n",
        "\n",
        "  if i % 100 == 99 : \n",
        "    print(i, 'a :', a.numpy(), 'b :', b.numpy(), 'loss :', compute_loss().numpy())\n",
        "\n",
        "# 회귀직선\n",
        "line_x = np.arange(min(X), max(X), 0.01)\n",
        "line_y = a * line_x + b\n",
        "\n",
        "# 그래프\n",
        "plt.plot(line_x, line_y, 'r-')\n",
        "plt.plot(X, Y, 'bo')\n",
        "plt.xlabel('Population Growth Rate (%)')\n",
        "plt.ylabel('Elderly Population Rate (%)')\n",
        "plt.show()"
      ],
      "execution_count": 7,
      "outputs": [
        {
          "output_type": "stream",
          "text": [
            "99 a : 0.115123786 b : 6.8009624 loss : 88.246086\n",
            "199 a : -0.12194952 b : 11.270894 loss : 29.082058\n",
            "299 a : -0.25942492 b : 13.856089 loss : 13.060978\n",
            "399 a : -0.32326552 b : 15.056777 loss : 10.15514\n",
            "499 a : -0.34686267 b : 15.500586 loss : 9.809207\n",
            "599 a : -0.35382774 b : 15.631586 loss : 9.782224\n",
            "699 a : -0.3554728 b : 15.662524 loss : 9.780849\n",
            "799 a : -0.3557824 b : 15.6683445 loss : 9.780805\n",
            "899 a : -0.35582808 b : 15.669209 loss : 9.780804\n",
            "999 a : -0.35583317 b : 15.669302 loss : 9.780804\n"
          ],
          "name": "stdout"
        },
        {
          "output_type": "display_data",
          "data": {
            "image/png": "[encoded data removed]",
            "text/plain": [
              "<Figure size 432x288 with 1 Axes>"
            ]
          },
          "metadata": {
            "tags": []
          }
        }
      ]
    },
    {
      "cell_type": "markdown",
      "metadata": {
        "id": "EFAhGGWCcIHn",
        "colab_type": "text"
      },
      "source": [
        "### **다항 회귀**"
      ]
    },
    {
      "cell_type": "code",
      "metadata": {
        "id": "I5jrmbXccHLT",
        "colab_type": "code",
        "colab": {
          "base_uri": "https://localhost:8080/",
          "height": 449
        },
        "outputId": "81c8a7e5-c1e1-4795-99e2-e2bd04578186"
      },
      "source": [
        "# Library\n",
        "import tensorflow as tf\n",
        "import numpy as np\n",
        "import matplotlib.pyplot as plt\n",
        "import random\n",
        "\n",
        "# Data\n",
        "X = [0.3, -0.78, 1.26, 0.03, 1.11, 0.24, -0.24, -0.47, -0.77, -0.37, -0.85, -0.41, -0.27, 0.02, -0.76, 2.66]\n",
        "Y = [12.27, 14.44, 11.87, 18.75, 17.52, 16.37, 19.78, 19.51, 12.65, 14.74, 10.72, 21.94, 12.83, 15.51, 17.14, 14.42]\n",
        "\n",
        "# a,b,c 를 Random으로 초기화\n",
        "a = tf.Variable(random.random())\n",
        "b = tf.Variable(random.random())\n",
        "c = tf.Variable(random.random())\n",
        "\n",
        "# 잔차의 제곱의 평균을 반환하는 함수\n",
        "def compute_loss() : \n",
        "  y_pred = a * X * X + b * X + c\n",
        "  loss = tf.reduce_mean((Y - y_pred) ** 2)\n",
        "  return loss\n",
        "\n",
        "# 옵티마이저\n",
        "optimizer = tf.keras.optimizers.Adam(lr=0.07)\n",
        "\n",
        "# 훈련\n",
        "for i in range(1000) : \n",
        "\n",
        "  # 잔차의 제곱의 평균을 최소화\n",
        "  optimizer.minimize(compute_loss, var_list=[a,b,c])\n",
        "\n",
        "  # 결과 출력\n",
        "  if i % 100 == 99 : \n",
        "    print(i, 'a :', a.numpy(), 'b :', b.numpy(), 'loss :', compute_loss().numpy())\n",
        "\n",
        "# 회귀선\n",
        "line_x = np.arange(min(X), max(X), 0.01)\n",
        "line_y = a * line_x * line_x + b * line_x + c\n",
        "\n",
        "# 그래프\n",
        "plt.plot(line_x, line_y, 'r-')\n",
        "plt.plot(X, Y, 'bo')\n",
        "plt.xlabel('Population Growth Rate (%)')\n",
        "plt.ylabel('Elderly Population Rate (%)')\n",
        "plt.show()"
      ],
      "execution_count": 8,
      "outputs": [
        {
          "output_type": "stream",
          "text": [
            "99 a : 3.8310676 b : -5.4991612 loss : 65.72551\n",
            "199 a : 2.6962097 b : -4.473582 loss : 30.092234\n",
            "299 a : 1.2138495 b : -2.2350087 loss : 15.510575\n",
            "399 a : 0.2799112 b : -0.81086797 loss : 10.823788\n",
            "499 a : -0.21251504 b : -0.06033755 loss : 9.693944\n",
            "599 a : -0.43592975 b : 0.28014958 loss : 9.487886\n",
            "699 a : -0.5234893 b : 0.41359034 loss : 9.459358\n",
            "799 a : -0.55317163 b : 0.4588264 loss : 9.456362\n",
            "899 a : -0.561867 b : 0.4720772 loss : 9.456125\n",
            "999 a : -0.56405854 b : 0.47541714 loss : 9.456112\n"
          ],
          "name": "stdout"
        },
        {
          "output_type": "display_data",
          "data": {
            "image/png": "[encoded data removed]",
            "text/plain": [
              "<Figure size 432x288 with 1 Axes>"
            ]
          },
          "metadata": {
            "tags": []
          }
        }
      ]
    },
    {
      "cell_type": "code",
      "metadata": {
        "id": "2ZZdHNWZcHRv",
        "colab_type": "code",
        "colab": {
          "base_uri": "https://localhost:8080/",
          "height": 449
        },
        "outputId": "bb6b7472-a8a7-4833-f065-881ff86f1430"
      },
      "source": [
        "# Library\n",
        "import tensorflow as tf\n",
        "import numpy as np\n",
        "import matplotlib.pyplot as plt\n",
        "import random\n",
        "\n",
        "# Data\n",
        "X = [0.3, -0.78, 1.26, 0.03, 1.11, 0.24, -0.24, -0.47, -0.77, -0.37, -0.85, -0.41, -0.27, 0.02, -0.76, 2.66]\n",
        "Y = [12.27, 14.44, 11.87, 18.75, 17.52, 16.37, 19.78, 19.51, 12.65, 14.74, 10.72, 21.94, 12.83, 15.51, 17.14, 14.42]\n",
        "\n",
        "# a,b,c,d 를 Random으로 초기화\n",
        "a = tf.Variable(random.random())\n",
        "b = tf.Variable(random.random())\n",
        "c = tf.Variable(random.random())\n",
        "d = tf.Variable(random.random())\n",
        "\n",
        "# 잔차의 제곱의 평균을 반환하는 함수\n",
        "def compute_loss() : \n",
        "  y_pred = a * X * X * X + b * X * X + c * X * d\n",
        "  loss = tf.reduce_mean((Y - y_pred) ** 2)\n",
        "  return loss\n",
        "\n",
        "# 옵티마이저\n",
        "optimizer = tf.keras.optimizers.Adam(lr=0.07)\n",
        "\n",
        "# 훈련\n",
        "for i in range(1000) : \n",
        "\n",
        "  # 잔차의 제곱의 평균을 최소화\n",
        "  optimizer.minimize(compute_loss, var_list=[a,b,c])\n",
        "\n",
        "  # 결과 출력\n",
        "  if i % 100 == 99 : \n",
        "    print(i, 'a :', a.numpy(), 'b :', b.numpy(), 'loss :', compute_loss().numpy())\n",
        "\n",
        "# 회귀선\n",
        "line_x = np.arange(min(X), max(X), 0.01)\n",
        "line_y = a * line_x * line_x * line_x + b * line_x * line_x + c * line_x + d\n",
        "\n",
        "# 그래프\n",
        "plt.plot(line_x, line_y, 'r-')\n",
        "plt.plot(X, Y, 'bo')\n",
        "plt.xlabel('Population Growth Rate (%)')\n",
        "plt.ylabel('Elderly Population Rate (%)')\n",
        "plt.show()"
      ],
      "execution_count": 9,
      "outputs": [
        {
          "output_type": "stream",
          "text": [
            "99 a : -1.3183032 b : 7.2502384 loss : 169.54071\n",
            "199 a : -2.8843186 b : 11.982594 loss : 146.3894\n",
            "299 a : -4.1662583 b : 15.1851845 loss : 137.98643\n",
            "399 a : -5.0315886 b : 17.187141 loss : 135.09195\n",
            "499 a : -5.524886 b : 18.3089 loss : 134.293\n",
            "599 a : -5.768629 b : 18.862011 loss : 134.12085\n",
            "699 a : -5.8740544 b : 19.101229 loss : 134.09186\n",
            "799 a : -5.914083 b : 19.192057 loss : 134.08806\n",
            "899 a : -5.927412 b : 19.222301 loss : 134.08768\n",
            "999 a : -5.9312944 b : 19.231113 loss : 134.08765\n"
          ],
          "name": "stdout"
        },
        {
          "output_type": "display_data",
          "data": {
            "image/png": "[encoded data removed]",
            "text/plain": [
              "<Figure size 432x288 with 1 Axes>"
            ]
          },
          "metadata": {
            "tags": []
          }
        }
      ]
    },
    {
      "cell_type": "markdown",
      "metadata": {
        "id": "vJ4mDGf6egmR",
        "colab_type": "text"
      },
      "source": [
        "### **딥러닝 네트워크를 이용한 회귀**"
      ]
    },
    {
      "cell_type": "code",
      "metadata": {
        "id": "FtPsSJnycHUQ",
        "colab_type": "code",
        "colab": {
          "base_uri": "https://localhost:8080/",
          "height": 221
        },
        "outputId": "405a6e2b-1d84-417a-822a-125f4c3fb8e2"
      },
      "source": [
        "# Library\n",
        "import tensorflow as tf\n",
        "import numpy as np\n",
        "\n",
        "# Data\n",
        "X = [0.3, -0.78, 1.26, 0.03, 1.11, 0.24, -0.24, -0.47, -0.77, -0.37, -0.85, -0.41, -0.27, 0.02, -0.76, 2.66]\n",
        "Y = [12.27, 14.44, 11.87, 18.75, 17.52, 16.37, 19.78, 19.51, 12.65, 14.74, 10.72, 21.94, 12.83, 15.51, 17.14, 14.42]\n",
        "\n",
        "# Model\n",
        "model = tf.keras.Sequential([\n",
        "                             tf.keras.layers.Dense(units=6, activation='tanh', input_shape=(1,)),\n",
        "                             tf.keras.layers.Dense(units=1)])\n",
        "\n",
        "# Compile\n",
        "model.compile(optimizer=tf.keras.optimizers.SGD(lr=0.1), loss='mse')\n",
        "\n",
        "# Summary\n",
        "model.summary()"
      ],
      "execution_count": 10,
      "outputs": [
        {
          "output_type": "stream",
          "text": [
            "Model: \"sequential\"\n",
            "_________________________________________________________________\n",
            "Layer (type)                 Output Shape              Param #   \n",
            "=================================================================\n",
            "dense (Dense)                (None, 6)                 12        \n",
            "_________________________________________________________________\n",
            "dense_1 (Dense)              (None, 1)                 7         \n",
            "=================================================================\n",
            "Total params: 19\n",
            "Trainable params: 19\n",
            "Non-trainable params: 0\n",
            "_________________________________________________________________\n"
          ],
          "name": "stdout"
        }
      ]
    },
    {
      "cell_type": "code",
      "metadata": {
        "id": "bS8psOjBcHWu",
        "colab_type": "code",
        "colab": {
          "base_uri": "https://localhost:8080/",
          "height": 391
        },
        "outputId": "f4404fc4-a4ab-4c1b-a0c6-a5967b833b83"
      },
      "source": [
        "# 학습\n",
        "model.fit(X, Y, epochs=10)"
      ],
      "execution_count": 11,
      "outputs": [
        {
          "output_type": "stream",
          "text": [
            "Train on 16 samples\n",
            "Epoch 1/10\n",
            "16/16 [==============================] - 0s 13ms/sample - loss: 254.9225\n",
            "Epoch 2/10\n",
            "16/16 [==============================] - 0s 539us/sample - loss: 100.4729\n",
            "Epoch 3/10\n",
            "16/16 [==============================] - 0s 574us/sample - loss: 10.3581\n",
            "Epoch 4/10\n",
            "16/16 [==============================] - 0s 443us/sample - loss: 9.7582\n",
            "Epoch 5/10\n",
            "16/16 [==============================] - 0s 375us/sample - loss: 9.7118\n",
            "Epoch 6/10\n",
            "16/16 [==============================] - 0s 398us/sample - loss: 9.6952\n",
            "Epoch 7/10\n",
            "16/16 [==============================] - 0s 347us/sample - loss: 9.6852\n",
            "Epoch 8/10\n",
            "16/16 [==============================] - 0s 332us/sample - loss: 9.6790\n",
            "Epoch 9/10\n",
            "16/16 [==============================] - 0s 425us/sample - loss: 9.6749\n",
            "Epoch 10/10\n",
            "16/16 [==============================] - 0s 365us/sample - loss: 9.6720\n"
          ],
          "name": "stdout"
        },
        {
          "output_type": "execute_result",
          "data": {
            "text/plain": [
              "<tensorflow.python.keras.callbacks.History at 0x7f35299d91d0>"
            ]
          },
          "metadata": {
            "tags": []
          },
          "execution_count": 11
        }
      ]
    },
    {
      "cell_type": "code",
      "metadata": {
        "id": "hyMAvOlCcHY8",
        "colab_type": "code",
        "colab": {
          "base_uri": "https://localhost:8080/",
          "height": 289
        },
        "outputId": "5aed20cc-57c2-4437-c53d-63016d006942"
      },
      "source": [
        "# 예측\n",
        "model.predict(X)"
      ],
      "execution_count": 12,
      "outputs": [
        {
          "output_type": "execute_result",
          "data": {
            "text/plain": [
              "array([[15.684254],\n",
              "       [15.910763],\n",
              "       [15.220041],\n",
              "       [15.765434],\n",
              "       [15.312195],\n",
              "       [15.70396 ],\n",
              "       [15.828703],\n",
              "       [15.87023 ],\n",
              "       [15.909702],\n",
              "       [15.853472],\n",
              "       [15.917749],\n",
              "       [15.860407],\n",
              "       [15.83473 ],\n",
              "       [15.768082],\n",
              "       [15.908628],\n",
              "       [14.061178]], dtype=float32)"
            ]
          },
          "metadata": {
            "tags": []
          },
          "execution_count": 12
        }
      ]
    },
    {
      "cell_type": "code",
      "metadata": {
        "id": "NVjgW52VcHbd",
        "colab_type": "code",
        "colab": {
          "base_uri": "https://localhost:8080/",
          "height": 279
        },
        "outputId": "f6f8a762-bf55-4290-9e99-fb1bb52b8bbe"
      },
      "source": [
        "# Library\n",
        "import matplotlib.pyplot as plt\n",
        "\n",
        "# Regression Line\n",
        "line_x = np.arange(min(X), max(X), 0.01)\n",
        "line_y = model.predict(line_x)\n",
        "\n",
        "# Graph\n",
        "plt.plot(line_x, line_y, 'r-')\n",
        "plt.plot(X, Y, 'bo')\n",
        "\n",
        "plt.xlabel('Population Growth Rate (%)')\n",
        "plt.ylabel('Elderly Population Rate (%)')\n",
        "plt.show()"
      ],
      "execution_count": 13,
      "outputs": [
        {
          "output_type": "display_data",
          "data": {
            "image/png": "[encoded data removed]",
            "text/plain": [
              "<Figure size 432x288 with 1 Axes>"
            ]
          },
          "metadata": {
            "tags": []
          }
        }
      ]
    },
    {
      "cell_type": "markdown",
      "metadata": {
        "id": "Aij1NRLOoVsi",
        "colab_type": "text"
      },
      "source": [
        "### **보스터 주택 가격 회귀 문제**"
      ]
    },
    {
      "cell_type": "code",
      "metadata": {
        "id": "biaY-h36cHg3",
        "colab_type": "code",
        "colab": {
          "base_uri": "https://localhost:8080/",
          "height": 1000
        },
        "outputId": "5ce3debd-eca6-4e39-f456-2f089329ec5b"
      },
      "source": [
        "# Dataset\n",
        "from tensorflow.keras.datasets import boston_housing\n",
        "(train_X, train_Y), (test_X, test_Y) = boston_housing.load_data()\n",
        "\n",
        "# Dataset Size\n",
        "print('=== Dataset Size ===')\n",
        "print(len(train_X), len(test_X), end='\\n\\n')\n",
        "\n",
        "# Dataset Shape\n",
        "print('=== Dataset Shape ===')\n",
        "print(train_X[0])\n",
        "print(train_Y[0], end='\\n\\n')\n",
        "\n",
        "# Data Normalization\n",
        "x_mean = train_X.mean()\n",
        "x_std = train_X.std()\n",
        "train_X -= x_mean\n",
        "train_X /= x_std\n",
        "test_X -= x_mean\n",
        "test_X /= x_std\n",
        "y_mean = train_Y.mean()\n",
        "y_std = train_Y.std()\n",
        "train_Y -= y_mean\n",
        "train_Y /= y_std\n",
        "test_Y -= x_mean\n",
        "test_Y /= x_std\n",
        "\n",
        "print('=== Dataset Shape (Normalization) ===')\n",
        "print(train_X[0])\n",
        "print(train_Y[0], end='\\n\\n')\n",
        "\n",
        "# Model Build\n",
        "model = tf.keras.Sequential([\n",
        "                             tf.keras.layers.Dense(units=52, activation='relu', input_shape=(13,)),\n",
        "                             tf.keras.layers.Dense(units=39, activation='relu'),\n",
        "                             tf.keras.layers.Dense(units=26, activation='relu'),\n",
        "                             tf.keras.layers.Dense(units=1)\n",
        "])\n",
        "\n",
        "# Model Compile\n",
        "model.compile(optimizer=tf.keras.optimizers.Adam(lr=.07), loss='mse')\n",
        "model.summary()\n",
        "\n",
        "# Model Learning\n",
        "history = model.fit(train_X, train_Y, epochs=25, batch_size=32, validation_split=0.25)\n",
        "\n",
        "# loss 시각화\n",
        "import matplotlib.pyplot as plt\n",
        "plt.plot(history.history['loss'], 'b-', label='loss')\n",
        "plt.plot(history.history['val_loss'], 'r--', label='val_loss')\n",
        "plt.xlabel('Epoch')\n",
        "plt.legend()\n",
        "plt.show()"
      ],
      "execution_count": 14,
      "outputs": [
        {
          "output_type": "stream",
          "text": [
            "=== Dataset Size ===\n",
            "404 102\n",
            "\n",
            "=== Dataset Shape ===\n",
            "[  1.23247   0.        8.14      0.        0.538     6.142    91.7\n",
            "   3.9769    4.      307.       21.      396.9      18.72   ]\n",
            "15.2\n",
            "\n",
            "=== Dataset Shape (Normalization) ===\n",
            "[-0.47482083 -0.48335641 -0.42698208 -0.48335641 -0.47963044 -0.44081941\n",
            "  0.15172056 -0.45581402 -0.45565404  1.64280094 -0.33791894  2.26541184\n",
            " -0.35370929]\n",
            "-0.7821526033779157\n",
            "\n",
            "Model: \"sequential_1\"\n",
            "_________________________________________________________________\n",
            "Layer (type)                 Output Shape              Param #   \n",
            "=================================================================\n",
            "dense_2 (Dense)              (None, 52)                728       \n",
            "_________________________________________________________________\n",
            "dense_3 (Dense)              (None, 39)                2067      \n",
            "_________________________________________________________________\n",
            "dense_4 (Dense)              (None, 26)                1040      \n",
            "_________________________________________________________________\n",
            "dense_5 (Dense)              (None, 1)                 27        \n",
            "=================================================================\n",
            "Total params: 3,862\n",
            "Trainable params: 3,862\n",
            "Non-trainable params: 0\n",
            "_________________________________________________________________\n",
            "Train on 303 samples, validate on 101 samples\n",
            "Epoch 1/25\n",
            "303/303 [==============================] - 0s 1ms/sample - loss: 8.4324 - val_loss: 1.2622\n",
            "Epoch 2/25\n",
            "303/303 [==============================] - 0s 106us/sample - loss: 0.8966 - val_loss: 1.2447\n",
            "Epoch 3/25\n",
            "303/303 [==============================] - 0s 96us/sample - loss: 0.8537 - val_loss: 1.1899\n",
            "Epoch 4/25\n",
            "303/303 [==============================] - 0s 108us/sample - loss: 0.7605 - val_loss: 1.1917\n",
            "Epoch 5/25\n",
            "303/303 [==============================] - 0s 108us/sample - loss: 0.6639 - val_loss: 1.2448\n",
            "Epoch 6/25\n",
            "303/303 [==============================] - 0s 97us/sample - loss: 0.6593 - val_loss: 1.0600\n",
            "Epoch 7/25\n",
            "303/303 [==============================] - 0s 105us/sample - loss: 0.6600 - val_loss: 1.1183\n",
            "Epoch 8/25\n",
            "303/303 [==============================] - 0s 125us/sample - loss: 0.6830 - val_loss: 1.3204\n",
            "Epoch 9/25\n",
            "303/303 [==============================] - 0s 110us/sample - loss: 0.7026 - val_loss: 1.0852\n",
            "Epoch 10/25\n",
            "303/303 [==============================] - 0s 122us/sample - loss: 0.6734 - val_loss: 1.0718\n",
            "Epoch 11/25\n",
            "303/303 [==============================] - 0s 117us/sample - loss: 0.6768 - val_loss: 1.2040\n",
            "Epoch 12/25\n",
            "303/303 [==============================] - 0s 125us/sample - loss: 0.6644 - val_loss: 1.0841\n",
            "Epoch 13/25\n",
            "303/303 [==============================] - 0s 117us/sample - loss: 0.6548 - val_loss: 1.0668\n",
            "Epoch 14/25\n",
            "303/303 [==============================] - 0s 114us/sample - loss: 0.6962 - val_loss: 1.1788\n",
            "Epoch 15/25\n",
            "303/303 [==============================] - 0s 112us/sample - loss: 0.6449 - val_loss: 1.0246\n",
            "Epoch 16/25\n",
            "303/303 [==============================] - 0s 130us/sample - loss: 0.6540 - val_loss: 1.0489\n",
            "Epoch 17/25\n",
            "303/303 [==============================] - 0s 119us/sample - loss: 0.6278 - val_loss: 1.0318\n",
            "Epoch 18/25\n",
            "303/303 [==============================] - 0s 110us/sample - loss: 0.6488 - val_loss: 1.0157\n",
            "Epoch 19/25\n",
            "303/303 [==============================] - 0s 103us/sample - loss: 0.6593 - val_loss: 1.0810\n",
            "Epoch 20/25\n",
            "303/303 [==============================] - 0s 119us/sample - loss: 0.6384 - val_loss: 1.0237\n",
            "Epoch 21/25\n",
            "303/303 [==============================] - 0s 113us/sample - loss: 0.6256 - val_loss: 1.1182\n",
            "Epoch 22/25\n",
            "303/303 [==============================] - 0s 113us/sample - loss: 0.6319 - val_loss: 1.0197\n",
            "Epoch 23/25\n",
            "303/303 [==============================] - 0s 103us/sample - loss: 0.5910 - val_loss: 1.1605\n",
            "Epoch 24/25\n",
            "303/303 [==============================] - 0s 115us/sample - loss: 0.6312 - val_loss: 1.1364\n",
            "Epoch 25/25\n",
            "303/303 [==============================] - 0s 101us/sample - loss: 0.6222 - val_loss: 1.0222\n"
          ],
          "name": "stdout"
        },
        {
          "output_type": "display_data",
          "data": {
            "image/png": "[encoded data removed]",
            "text/plain": [
              "<Figure size 432x288 with 1 Axes>"
            ]
          },
          "metadata": {
            "tags": []
          }
        }
      ]
    },
    {
      "cell_type": "code",
      "metadata": {
        "id": "Er4Q36fN0uLL",
        "colab_type": "code",
        "colab": {
          "base_uri": "https://localhost:8080/",
          "height": 51
        },
        "outputId": "7f9b5441-01c6-4164-fb6b-8f4dce436e07"
      },
      "source": [
        "# 회귀 모델 평가\n",
        "model.evaluate(test_X, test_Y)"
      ],
      "execution_count": 15,
      "outputs": [
        {
          "output_type": "stream",
          "text": [
            "102/102 [==============================] - 0s 75us/sample - loss: 0.3503\n"
          ],
          "name": "stdout"
        },
        {
          "output_type": "execute_result",
          "data": {
            "text/plain": [
              "0.3502556237519956"
            ]
          },
          "metadata": {
            "tags": []
          },
          "execution_count": 15
        }
      ]
    },
    {
      "cell_type": "code",
      "metadata": {
        "id": "BE4AssGU0uNo",
        "colab_type": "code",
        "colab": {
          "base_uri": "https://localhost:8080/",
          "height": 335
        },
        "outputId": "a07a8061-8fda-43d7-93b2-d482d1040ce4"
      },
      "source": [
        "# 실제 주택 가격과 예측 주택 가격 시각화\n",
        "import matplotlib.pyplot as plt\n",
        "\n",
        "pred_Y = model.predict(test_X)\n",
        "\n",
        "plt.figure(figsize=(5,5))\n",
        "plt.plot(test_Y, pred_Y, 'b.')\n",
        "plt.axis([min(test_Y), max(test_Y), min(test_Y), max(test_Y)])\n",
        "\n",
        "# y=x에 해당하는 대각선\n",
        "plt.plot([min(test_Y), max(test_Y)], [min(test_Y), max(test_Y)], ls=\"--\", c=\".3\")\n",
        "plt.xlabel('test_Y')\n",
        "plt.ylabel('pred_Y')\n",
        "\n",
        "plt.show()"
      ],
      "execution_count": 16,
      "outputs": [
        {
          "output_type": "display_data",
          "data": {
            "image/png": "[encoded data removed]",
            "text/plain": [
              "<Figure size 360x360 with 1 Axes>"
            ]
          },
          "metadata": {
            "tags": []
          }
        }
      ]
    },
    {
      "cell_type": "code",
      "metadata": {
        "id": "0zJ1FqOo1QFH",
        "colab_type": "code",
        "colab": {
          "base_uri": "https://localhost:8080/",
          "height": 272
        },
        "outputId": "8b00b142-949a-4766-8307-7e0ade13d7a6"
      },
      "source": [
        "# 모델 재정의 및 학습\n",
        "model = tf.keras.Sequential([\n",
        "    tf.keras.layers.Dense(units=52, activation='relu', input_shape=(13,)),\n",
        "    tf.keras.layers.Dense(units=39, activation='relu'),\n",
        "    tf.keras.layers.Dense(units=26, activation='relu'),\n",
        "    tf.keras.layers.Dense(units=1)\n",
        "])\n",
        "\n",
        "model.compile(optimizer=tf.keras.optimizers.Adam(lr=0.07), loss='mse')\n",
        "\n",
        "history = model.fit(train_X, train_Y, epochs=25, batch_size=32, validation_split=0.25, callbacks=[tf.keras.callbacks.EarlyStopping(patience=3, monitor='val_loss')])"
      ],
      "execution_count": 17,
      "outputs": [
        {
          "output_type": "stream",
          "text": [
            "Train on 303 samples, validate on 101 samples\n",
            "Epoch 1/25\n",
            "303/303 [==============================] - 1s 2ms/sample - loss: 1.9490 - val_loss: 1.1469\n",
            "Epoch 2/25\n",
            "303/303 [==============================] - 0s 121us/sample - loss: 0.9500 - val_loss: 1.0955\n",
            "Epoch 3/25\n",
            "303/303 [==============================] - 0s 115us/sample - loss: 0.7579 - val_loss: 1.1581\n",
            "Epoch 4/25\n",
            "303/303 [==============================] - 0s 108us/sample - loss: 0.7240 - val_loss: 1.0283\n",
            "Epoch 5/25\n",
            "303/303 [==============================] - 0s 104us/sample - loss: 0.6802 - val_loss: 1.0909\n",
            "Epoch 6/25\n",
            "303/303 [==============================] - 0s 101us/sample - loss: 0.6706 - val_loss: 1.1651\n",
            "Epoch 7/25\n",
            "303/303 [==============================] - 0s 121us/sample - loss: 0.6806 - val_loss: 1.1172\n"
          ],
          "name": "stdout"
        }
      ]
    },
    {
      "cell_type": "code",
      "metadata": {
        "id": "vlVaC-3B0uQE",
        "colab_type": "code",
        "colab": {}
      },
      "source": [
        ""
      ],
      "execution_count": 0,
      "outputs": []
    },
    {
      "cell_type": "code",
      "metadata": {
        "id": "sHgs75s-0uIS",
        "colab_type": "code",
        "colab": {}
      },
      "source": [
        ""
      ],
      "execution_count": 0,
      "outputs": []
    }
  ]
}
